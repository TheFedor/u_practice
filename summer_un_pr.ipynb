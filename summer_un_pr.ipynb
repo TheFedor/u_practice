{
  "metadata": {
    "language_info": {
      "codemirror_mode": {
        "name": "python",
        "version": 3
      },
      "file_extension": ".py",
      "mimetype": "text/x-python",
      "name": "python",
      "nbconvert_exporter": "python",
      "pygments_lexer": "ipython3",
      "version": "3.8"
    },
    "kernelspec": {
      "name": "python",
      "display_name": "Python (Pyodide)",
      "language": "python"
    }
  },
  "nbformat_minor": 4,
  "nbformat": 4,
  "cells": [
    {
      "cell_type": "code",
      "source": "#импортируем модуль matplotlib.pyplot под именем plt\nimport matplotlib.pyplot as plt\n#аналогично\nimport numpy as np\n#из библиотеки sklearn импортируем модули datasets, linear_model\nfrom sklearn import datasets, linear_model\n#аналогично\nfrom sklearn.metrics import mean_squared_error, r2_score\n\n# загружаем набор данных по диабету\ndiabetes_X, diabetes_y = datasets.load_diabetes(return_X_y=True)\n\n# Use only one feature\ndiabetes_X = diabetes_X[:, np.newaxis, 2]\n\n# разделяем данные на обучающие/тестовые\ndiabetes_X_train = diabetes_X[:-20]\ndiabetes_X_test = diabetes_X[-20:]\n\ndiabetes_y_train = diabetes_y[:-20]\ndiabetes_y_test = diabetes_y[-20:]\n\n# создаем объект линейной регрессии\nregr = linear_model.LinearRegression()\n\n# обучение модели с помощью обучающего набора\nregr.fit(diabetes_X_train, diabetes_y_train)\n\n# Делаем прогнозы, используя тестовый набор\ndiabetes_y_pred = regr.predict(diabetes_X_test)\n\n# строим точечный график\nplt.scatter(diabetes_X_test, diabetes_y_test, color=\"black\")\n# строим линию среднего значения шириной 3\nplt.plot(diabetes_X_test, diabetes_y_pred, color=\"blue\", linewidth=3)\n\n#устанавливаем тики и метки оси x так, чтобы их не было видно\nplt.xticks(())\n#аналогично для оси y\nplt.yticks(())\n\n#отображаем все открытые фигуры\nplt.show()",
      "metadata": {
        "trusted": true
      },
      "execution_count": 136,
      "outputs": [
        {
          "output_type": "display_data",
          "data": {
            "text/plain": "<pyolite.display.Image at 0x5990278>",
            "image/png": "[encoded data removed]"
          },
          "metadata": {}
        },
        {
          "output_type": "display_data",
          "data": {
            "text/plain": "<Figure size 432x288 with 0 Axes>"
          },
          "metadata": {}
        }
      ]
    },
    {
      "cell_type": "code",
      "source": "from IPython.display import Image\nfrom IPython.core.display import HTML \nImage(url= \"https://scikit-learn.org/stable/_images/sphx_glr_plot_ols_001.png\")",
      "metadata": {
        "trusted": true
      },
      "execution_count": 174,
      "outputs": [
        {
          "execution_count": 174,
          "output_type": "execute_result",
          "data": {
            "text/html": "<img src=\"https://scikit-learn.org/stable/_images/sphx_glr_plot_ols_001.png\"/>",
            "text/plain": "<IPython.core.display.Image object>"
          },
          "metadata": {}
        }
      ]
    },
    {
      "cell_type": "code",
      "source": "",
      "metadata": {},
      "execution_count": null,
      "outputs": []
    }
  ]
}